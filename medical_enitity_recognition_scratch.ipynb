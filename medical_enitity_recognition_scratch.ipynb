{
  "nbformat": 4,
  "nbformat_minor": 0,
  "metadata": {
    "colab": {
      "provenance": [],
      "authorship_tag": "ABX9TyNMfCXzbTXUd50CTYb+AWK3",
      "include_colab_link": true
    },
    "kernelspec": {
      "name": "python3",
      "display_name": "Python 3"
    },
    "language_info": {
      "name": "python"
    }
  },
  "cells": [
    {
      "cell_type": "markdown",
      "metadata": {
        "id": "view-in-github",
        "colab_type": "text"
      },
      "source": [
        "<a href=\"https://colab.research.google.com/github/hruthiksiva/medical-entity-recognition/blob/main/medical_enitity_recognition_scratch.ipynb\" target=\"_parent\"><img src=\"https://colab.research.google.com/assets/colab-badge.svg\" alt=\"Open In Colab\"/></a>"
      ]
    },
    {
      "cell_type": "code",
      "execution_count": 33,
      "metadata": {
        "id": "GBXHpNjj1CsR"
      },
      "outputs": [],
      "source": [
        "from transformers import AutoModelForTokenClassification,AutoTokenizer"
      ]
    },
    {
      "cell_type": "code",
      "source": [
        "import torch"
      ],
      "metadata": {
        "id": "xJ0ki2VX3BCh"
      },
      "execution_count": 34,
      "outputs": []
    },
    {
      "cell_type": "code",
      "source": [
        "model_name = \"dbmdz/bert-large-cased-finetuned-conll03-english\"\n",
        "model = AutoModelForTokenClassification.from_pretrained(model_name)\n",
        "tokenizer = AutoTokenizer.from_pretrained(model_name)"
      ],
      "metadata": {
        "colab": {
          "base_uri": "https://localhost:8080/"
        },
        "id": "9mMSqzcz1Omh",
        "outputId": "8f22f581-d889-4e4e-f1c9-d51491c14d73"
      },
      "execution_count": 35,
      "outputs": [
        {
          "output_type": "stream",
          "name": "stderr",
          "text": [
            "Some weights of the model checkpoint at dbmdz/bert-large-cased-finetuned-conll03-english were not used when initializing BertForTokenClassification: ['bert.pooler.dense.bias', 'bert.pooler.dense.weight']\n",
            "- This IS expected if you are initializing BertForTokenClassification from the checkpoint of a model trained on another task or with another architecture (e.g. initializing a BertForSequenceClassification model from a BertForPreTraining model).\n",
            "- This IS NOT expected if you are initializing BertForTokenClassification from the checkpoint of a model that you expect to be exactly identical (initializing a BertForSequenceClassification model from a BertForSequenceClassification model).\n"
          ]
        }
      ]
    },
    {
      "cell_type": "code",
      "source": [
        "model"
      ],
      "metadata": {
        "colab": {
          "base_uri": "https://localhost:8080/"
        },
        "id": "_nEaljYZIff3",
        "outputId": "4cf14210-9936-4941-a18a-e1dd5097af7e"
      },
      "execution_count": 36,
      "outputs": [
        {
          "output_type": "execute_result",
          "data": {
            "text/plain": [
              "BertForTokenClassification(\n",
              "  (bert): BertModel(\n",
              "    (embeddings): BertEmbeddings(\n",
              "      (word_embeddings): Embedding(28996, 1024, padding_idx=0)\n",
              "      (position_embeddings): Embedding(512, 1024)\n",
              "      (token_type_embeddings): Embedding(2, 1024)\n",
              "      (LayerNorm): LayerNorm((1024,), eps=1e-12, elementwise_affine=True)\n",
              "      (dropout): Dropout(p=0.1, inplace=False)\n",
              "    )\n",
              "    (encoder): BertEncoder(\n",
              "      (layer): ModuleList(\n",
              "        (0-23): 24 x BertLayer(\n",
              "          (attention): BertAttention(\n",
              "            (self): BertSdpaSelfAttention(\n",
              "              (query): Linear(in_features=1024, out_features=1024, bias=True)\n",
              "              (key): Linear(in_features=1024, out_features=1024, bias=True)\n",
              "              (value): Linear(in_features=1024, out_features=1024, bias=True)\n",
              "              (dropout): Dropout(p=0.1, inplace=False)\n",
              "            )\n",
              "            (output): BertSelfOutput(\n",
              "              (dense): Linear(in_features=1024, out_features=1024, bias=True)\n",
              "              (LayerNorm): LayerNorm((1024,), eps=1e-12, elementwise_affine=True)\n",
              "              (dropout): Dropout(p=0.1, inplace=False)\n",
              "            )\n",
              "          )\n",
              "          (intermediate): BertIntermediate(\n",
              "            (dense): Linear(in_features=1024, out_features=4096, bias=True)\n",
              "            (intermediate_act_fn): GELUActivation()\n",
              "          )\n",
              "          (output): BertOutput(\n",
              "            (dense): Linear(in_features=4096, out_features=1024, bias=True)\n",
              "            (LayerNorm): LayerNorm((1024,), eps=1e-12, elementwise_affine=True)\n",
              "            (dropout): Dropout(p=0.1, inplace=False)\n",
              "          )\n",
              "        )\n",
              "      )\n",
              "    )\n",
              "  )\n",
              "  (dropout): Dropout(p=0.1, inplace=False)\n",
              "  (classifier): Linear(in_features=1024, out_features=9, bias=True)\n",
              ")"
            ]
          },
          "metadata": {},
          "execution_count": 36
        }
      ]
    },
    {
      "cell_type": "code",
      "source": [
        "medical_text = \"\"\"\n",
        "The patient, Mrs. Jane Smith, was diagnosed with Type 2 diabetes and hypertension.\n",
        "She was prescribed 10mg of Lisinopril and 500mg of Metformin daily.\n",
        "The doctor recommended monitoring blood sugar levels regularly and maintaining a healthy diet.\n",
        "The follow-up appointment is scheduled for next month.\n",
        "\"\"\""
      ],
      "metadata": {
        "id": "MdjSd1zw1viz"
      },
      "execution_count": 37,
      "outputs": []
    },
    {
      "cell_type": "code",
      "source": [
        "tokens = tokenizer(medical_text,return_tensors=\"pt\", truncation=True, padding=True, is_split_into_words=False)\n",
        "tokens"
      ],
      "metadata": {
        "colab": {
          "base_uri": "https://localhost:8080/"
        },
        "id": "G5HsoiFt17GQ",
        "outputId": "af4586a2-87f6-4be8-8595-436d73f613ce"
      },
      "execution_count": 38,
      "outputs": [
        {
          "output_type": "execute_result",
          "data": {
            "text/plain": [
              "{'input_ids': tensor([[  101,  1109,  5351,   117,  2823,   119,  4074,  2159,   117,  1108,\n",
              "         11534,  1114,  6902,   123, 17972,  1105,   177, 24312, 23826,  1988,\n",
              "           119,  1153,  1108, 17421,  1275,  1306,  1403,  1104,  5255, 10606,\n",
              "          4184, 13217,  1105,  2260,  1306,  1403,  1104, 19415, 13199,  1394,\n",
              "          3828,   119,  1109,  3995,  6315,  9437,  1892,  6656,  3001,  4857,\n",
              "          1105,  8338,   170,  8071, 10211,   119,  1109,  2812,   118,  1146,\n",
              "          5516,  1110,  4533,  1111,  1397,  2370,   119,   102]]), 'token_type_ids': tensor([[0, 0, 0, 0, 0, 0, 0, 0, 0, 0, 0, 0, 0, 0, 0, 0, 0, 0, 0, 0, 0, 0, 0, 0,\n",
              "         0, 0, 0, 0, 0, 0, 0, 0, 0, 0, 0, 0, 0, 0, 0, 0, 0, 0, 0, 0, 0, 0, 0, 0,\n",
              "         0, 0, 0, 0, 0, 0, 0, 0, 0, 0, 0, 0, 0, 0, 0, 0, 0, 0, 0, 0]]), 'attention_mask': tensor([[1, 1, 1, 1, 1, 1, 1, 1, 1, 1, 1, 1, 1, 1, 1, 1, 1, 1, 1, 1, 1, 1, 1, 1,\n",
              "         1, 1, 1, 1, 1, 1, 1, 1, 1, 1, 1, 1, 1, 1, 1, 1, 1, 1, 1, 1, 1, 1, 1, 1,\n",
              "         1, 1, 1, 1, 1, 1, 1, 1, 1, 1, 1, 1, 1, 1, 1, 1, 1, 1, 1, 1]])}"
            ]
          },
          "metadata": {},
          "execution_count": 38
        }
      ]
    },
    {
      "cell_type": "code",
      "source": [
        "inputs = token['input_ids']\n",
        "with torch.no_grad():\n",
        "    outputs = model(**tokens)\n",
        "outputs"
      ],
      "metadata": {
        "colab": {
          "base_uri": "https://localhost:8080/"
        },
        "id": "GP_zI_Uy2ILW",
        "outputId": "51b2c894-5ade-4bf2-cada-53762597757f"
      },
      "execution_count": 39,
      "outputs": [
        {
          "output_type": "execute_result",
          "data": {
            "text/plain": [
              "TokenClassifierOutput(loss=None, logits=tensor([[[ 1.0757e+01, -1.9263e+00, -1.2889e+00, -1.9118e+00, -1.7273e+00,\n",
              "          -1.9391e+00, -1.3064e+00, -1.7458e+00, -3.3091e-02],\n",
              "         [ 1.1675e+01, -2.3681e+00, -1.0510e+00, -2.3882e+00, -9.0812e-01,\n",
              "          -1.7926e+00, -8.6036e-01, -2.0676e+00, -5.2620e-01],\n",
              "         [ 1.1983e+01, -2.1807e+00, -8.2856e-01, -2.2154e+00, -9.5181e-01,\n",
              "          -1.8398e+00, -8.6223e-01, -1.8875e+00, -8.4585e-01],\n",
              "         [ 1.1833e+01, -2.1161e+00, -1.3610e+00, -2.2404e+00, -8.0916e-01,\n",
              "          -1.6021e+00, -9.0946e-01, -1.8657e+00, -7.0799e-01],\n",
              "         [ 8.9049e+00, -2.3702e+00, -1.1760e+00, -2.7036e+00,  2.2092e+00,\n",
              "          -2.5991e+00, -9.3152e-01, -2.1958e+00, -7.9249e-01],\n",
              "         [ 1.0180e+01, -2.3632e+00, -1.4213e+00, -2.5029e+00,  1.0455e+00,\n",
              "          -2.1810e+00, -9.4947e-01, -2.0048e+00, -1.0048e+00],\n",
              "         [-8.8233e-01, -2.2020e+00, -4.0332e-01, -2.8341e+00,  7.9914e+00,\n",
              "          -2.3256e+00, -6.2199e-01, -2.2678e+00,  1.3856e-01],\n",
              "         [-4.9031e-01, -2.0401e+00, -6.4240e-01, -3.0094e+00,  8.6524e+00,\n",
              "          -2.5150e+00, -5.5261e-01, -2.6428e+00, -3.3994e-01],\n",
              "         [ 1.1912e+01, -2.0999e+00, -1.3344e+00, -2.1894e+00, -8.5429e-01,\n",
              "          -1.6339e+00, -9.5201e-01, -1.7965e+00, -6.7885e-01],\n",
              "         [ 1.1837e+01, -2.1591e+00, -1.2607e+00, -2.1688e+00, -8.8396e-01,\n",
              "          -1.6787e+00, -8.7774e-01, -1.7607e+00, -7.1362e-01],\n",
              "         [ 1.1722e+01, -2.0649e+00, -8.2633e-01, -2.2473e+00, -6.4036e-01,\n",
              "          -1.8927e+00, -8.4842e-01, -1.8202e+00, -6.4426e-01],\n",
              "         [ 1.1794e+01, -2.0706e+00, -1.1541e+00, -2.1487e+00, -8.7550e-01,\n",
              "          -1.8439e+00, -9.0524e-01, -1.6988e+00, -4.2282e-01],\n",
              "         [ 2.1268e+00,  2.9253e-01,  5.6592e+00, -2.9685e+00, -4.6092e-01,\n",
              "          -2.6641e+00, -2.7237e+00, -1.5224e+00, -1.3887e+00],\n",
              "         [ 3.0685e+00,  6.3160e-01,  5.3283e+00, -2.4803e+00, -5.6801e-01,\n",
              "          -2.7977e+00, -1.4804e+00, -1.9077e+00, -4.6033e-01],\n",
              "         [ 1.0312e+01, -1.9479e+00,  7.8470e-01, -2.6673e+00, -8.6227e-01,\n",
              "          -1.9624e+00, -9.4129e-01, -1.6739e+00, -9.8996e-01],\n",
              "         [ 1.1662e+01, -2.3004e+00, -1.1924e+00, -2.3566e+00, -1.0551e+00,\n",
              "          -1.8007e+00, -5.3169e-01, -1.9694e+00, -5.8404e-01],\n",
              "         [ 1.1960e+01, -2.1648e+00, -9.1044e-01, -2.3360e+00, -9.7820e-01,\n",
              "          -1.8556e+00, -9.5004e-01, -1.7293e+00, -7.5248e-01],\n",
              "         [ 1.1485e+01, -2.3933e+00, -5.2955e-01, -2.6794e+00, -1.0125e+00,\n",
              "          -2.0793e+00, -6.9559e-01, -2.0836e+00, -7.4197e-01],\n",
              "         [ 1.0892e+01, -2.1489e+00, -2.5325e-01, -3.0796e+00, -7.9621e-01,\n",
              "          -1.9469e+00, -5.8533e-01, -1.7682e+00, -1.0709e+00],\n",
              "         [ 1.1686e+01, -2.1036e+00, -7.7726e-01, -2.4689e+00, -9.9912e-01,\n",
              "          -1.9413e+00, -6.5189e-01, -1.8487e+00, -7.3072e-01],\n",
              "         [ 1.0757e+01, -1.9263e+00, -1.2889e+00, -1.9118e+00, -1.7273e+00,\n",
              "          -1.9392e+00, -1.3063e+00, -1.7458e+00, -3.3051e-02],\n",
              "         [ 1.1140e+01, -2.3835e+00, -1.1945e+00, -2.4543e+00,  1.8003e-02,\n",
              "          -1.8655e+00, -9.7170e-01, -2.2344e+00, -6.8550e-01],\n",
              "         [ 1.1808e+01, -2.1775e+00, -1.2136e+00, -2.2161e+00, -1.0641e+00,\n",
              "          -1.6156e+00, -7.9280e-01, -1.7947e+00, -6.7148e-01],\n",
              "         [ 1.1852e+01, -2.0795e+00, -7.4531e-01, -2.3404e+00, -1.0470e+00,\n",
              "          -1.5448e+00, -8.9339e-01, -1.8628e+00, -5.4577e-01],\n",
              "         [ 1.1918e+01, -2.2612e+00, -6.6600e-01, -2.2569e+00, -1.2307e+00,\n",
              "          -1.7504e+00, -1.2034e+00, -1.7933e+00, -6.6103e-01],\n",
              "         [ 1.1871e+01, -2.0854e+00, -5.9470e-01, -2.3370e+00, -1.1514e+00,\n",
              "          -1.7407e+00, -9.4644e-01, -1.7572e+00, -8.3318e-01],\n",
              "         [ 1.1905e+01, -1.9149e+00, -6.3242e-01, -2.4044e+00, -1.1400e+00,\n",
              "          -1.7266e+00, -1.0507e+00, -1.5571e+00, -8.4629e-01],\n",
              "         [ 1.1490e+01, -1.5747e+00, -5.1833e-01, -2.4654e+00, -1.3849e+00,\n",
              "          -1.7646e+00, -9.8326e-01, -1.6604e+00, -6.0578e-01],\n",
              "         [ 1.2793e+00, -9.4493e-02,  5.2006e+00, -3.1108e+00, -9.7374e-01,\n",
              "          -2.3194e+00, -1.6455e+00, -2.7891e+00, -5.8913e-01],\n",
              "         [ 3.7965e+00, -8.0176e-01,  3.7598e+00, -2.5836e+00, -2.4645e-01,\n",
              "          -1.9811e+00, -2.5831e-01, -2.1744e+00, -2.7611e-01],\n",
              "         [ 2.4475e+00, -5.8623e-01,  2.3785e+00, -1.6460e+00,  8.1758e-03,\n",
              "          -2.0545e+00, -8.2706e-01, -1.5728e+00, -6.9463e-01],\n",
              "         [ 4.3436e+00, -1.1556e+00,  3.1820e+00, -3.0834e+00, -7.0858e-01,\n",
              "          -2.0953e+00,  4.3824e-01, -2.8020e+00, -4.2229e-01],\n",
              "         [ 1.1416e+01, -2.2025e+00, -8.9577e-01, -2.5066e+00, -1.0815e+00,\n",
              "          -1.6986e+00, -5.6405e-01, -2.1137e+00, -5.7655e-01],\n",
              "         [ 1.1872e+01, -2.2108e+00, -6.0520e-01, -2.3219e+00, -1.0425e+00,\n",
              "          -1.7568e+00, -1.0726e+00, -1.8520e+00, -8.1680e-01],\n",
              "         [ 1.1839e+01, -2.0906e+00, -6.8134e-01, -2.3885e+00, -1.1182e+00,\n",
              "          -1.7290e+00, -8.6412e-01, -1.8273e+00, -8.8667e-01],\n",
              "         [ 1.1993e+01, -1.9759e+00, -8.3640e-01, -2.4231e+00, -1.1858e+00,\n",
              "          -1.6972e+00, -1.0018e+00, -1.6453e+00, -7.7688e-01],\n",
              "         [ 1.1635e+01, -1.7419e+00, -6.9661e-01, -2.4360e+00, -1.3589e+00,\n",
              "          -1.7191e+00, -9.8179e-01, -1.7409e+00, -6.6022e-01],\n",
              "         [ 1.7618e+00, -4.3904e-01,  4.5036e+00, -2.9767e+00, -1.2363e+00,\n",
              "          -2.3878e+00, -1.1401e+00, -2.6639e+00, -1.2007e-01],\n",
              "         [ 1.3389e+00, -1.0501e+00,  1.9122e+00, -2.7442e+00, -4.7695e-01,\n",
              "          -1.8506e+00,  4.6927e-01, -1.7844e+00,  4.0109e-01],\n",
              "         [ 3.9743e+00, -5.0851e-01,  3.5617e+00, -2.6622e+00, -9.8001e-01,\n",
              "          -1.8373e+00, -7.0643e-01, -2.3391e+00, -1.2642e-01],\n",
              "         [ 1.1820e+01, -2.2140e+00, -1.0527e+00, -2.2755e+00, -1.2301e+00,\n",
              "          -1.6985e+00, -8.6419e-01, -1.7436e+00, -4.5408e-01],\n",
              "         [ 1.0757e+01, -1.9263e+00, -1.2889e+00, -1.9118e+00, -1.7273e+00,\n",
              "          -1.9391e+00, -1.3064e+00, -1.7457e+00, -3.3099e-02],\n",
              "         [ 1.1536e+01, -2.4509e+00, -1.3661e+00, -2.3517e+00, -9.4104e-01,\n",
              "          -1.7191e+00, -5.5136e-01, -2.0625e+00, -3.6573e-01],\n",
              "         [ 1.1717e+01, -2.2841e+00, -1.3066e+00, -2.2754e+00, -9.2445e-01,\n",
              "          -1.7519e+00, -5.3155e-01, -1.7314e+00, -5.5508e-01],\n",
              "         [ 1.1811e+01, -2.1227e+00, -1.0362e+00, -2.3372e+00, -8.9165e-01,\n",
              "          -1.5341e+00, -6.7239e-01, -1.8091e+00, -6.4904e-01],\n",
              "         [ 1.1782e+01, -2.2234e+00, -8.7063e-01, -2.4827e+00, -9.2724e-01,\n",
              "          -1.6586e+00, -8.4388e-01, -1.7698e+00, -5.1547e-01],\n",
              "         [ 1.1901e+01, -2.2075e+00, -9.3346e-01, -2.4131e+00, -1.1343e+00,\n",
              "          -1.7039e+00, -7.3687e-01, -1.8281e+00, -6.0450e-01],\n",
              "         [ 1.1724e+01, -2.0818e+00, -3.1068e-01, -2.6203e+00, -1.0885e+00,\n",
              "          -1.9648e+00, -6.3551e-01, -1.8563e+00, -7.4550e-01],\n",
              "         [ 1.1912e+01, -2.2259e+00, -7.5249e-01, -2.5061e+00, -1.0420e+00,\n",
              "          -1.8183e+00, -7.5752e-01, -1.8242e+00, -7.5387e-01],\n",
              "         [ 1.1874e+01, -2.1912e+00, -9.1094e-01, -2.4004e+00, -1.1556e+00,\n",
              "          -1.7055e+00, -9.1706e-01, -1.6761e+00, -5.0320e-01],\n",
              "         [ 1.1682e+01, -2.1830e+00, -1.1009e+00, -2.4144e+00, -1.1501e+00,\n",
              "          -1.5979e+00, -6.8835e-01, -1.7860e+00, -5.7179e-01],\n",
              "         [ 1.1799e+01, -2.1756e+00, -8.3766e-01, -2.5161e+00, -8.7083e-01,\n",
              "          -1.6979e+00, -9.7952e-01, -1.8114e+00, -5.5923e-01],\n",
              "         [ 1.1884e+01, -2.1494e+00, -1.0632e+00, -2.3646e+00, -1.1050e+00,\n",
              "          -1.6547e+00, -1.0091e+00, -1.7248e+00, -5.4000e-01],\n",
              "         [ 1.1646e+01, -2.1674e+00, -4.9955e-01, -2.6673e+00, -1.0276e+00,\n",
              "          -1.9024e+00, -1.0220e+00, -1.7276e+00, -5.8077e-01],\n",
              "         [ 1.1401e+01, -2.5043e+00, -3.2878e-01, -3.1021e+00, -1.2989e+00,\n",
              "          -1.8522e+00, -8.0280e-01, -1.9922e+00, -4.7344e-01],\n",
              "         [ 1.0757e+01, -1.9263e+00, -1.2889e+00, -1.9118e+00, -1.7273e+00,\n",
              "          -1.9391e+00, -1.3064e+00, -1.7457e+00, -3.3094e-02],\n",
              "         [ 1.1717e+01, -2.3270e+00, -1.0924e+00, -2.4326e+00, -1.1467e+00,\n",
              "          -1.7424e+00, -8.1485e-01, -1.9891e+00, -4.6114e-01],\n",
              "         [ 1.1757e+01, -2.3786e+00, -5.6592e-01, -2.5098e+00, -9.9886e-01,\n",
              "          -1.8086e+00, -4.8900e-01, -1.9235e+00, -7.2630e-01],\n",
              "         [ 1.1693e+01, -2.2394e+00, -1.0819e+00, -2.4395e+00, -1.1818e+00,\n",
              "          -1.7797e+00, -6.0054e-01, -1.9207e+00, -7.2724e-01],\n",
              "         [ 1.1988e+01, -2.2346e+00, -1.0015e+00, -2.3230e+00, -1.1881e+00,\n",
              "          -1.6920e+00, -7.8091e-01, -1.6983e+00, -6.6365e-01],\n",
              "         [ 1.1680e+01, -2.2797e+00, -7.0472e-01, -2.5242e+00, -1.2230e+00,\n",
              "          -1.7796e+00, -5.7386e-01, -1.6980e+00, -5.0189e-01],\n",
              "         [ 1.1780e+01, -2.1544e+00, -1.1714e+00, -2.1923e+00, -1.0211e+00,\n",
              "          -1.6943e+00, -7.8895e-01, -1.8274e+00, -6.0962e-01],\n",
              "         [ 1.1802e+01, -2.1711e+00, -1.0004e+00, -2.2533e+00, -1.1752e+00,\n",
              "          -1.7581e+00, -8.9565e-01, -1.8859e+00, -4.8915e-01],\n",
              "         [ 1.1752e+01, -2.0939e+00, -9.9189e-01, -2.3689e+00, -1.2347e+00,\n",
              "          -1.8432e+00, -8.5457e-01, -1.7130e+00, -3.2131e-01],\n",
              "         [ 1.1796e+01, -2.1808e+00, -9.5724e-01, -2.4140e+00, -1.2243e+00,\n",
              "          -1.9771e+00, -9.9855e-01, -1.6678e+00, -3.7136e-01],\n",
              "         [ 1.1951e+01, -2.1757e+00, -1.0237e+00, -2.2494e+00, -1.2777e+00,\n",
              "          -1.7413e+00, -8.9911e-01, -1.6235e+00, -5.1657e-01],\n",
              "         [ 1.0757e+01, -1.9263e+00, -1.2889e+00, -1.9118e+00, -1.7273e+00,\n",
              "          -1.9391e+00, -1.3064e+00, -1.7457e+00, -3.3104e-02],\n",
              "         [ 1.0757e+01, -1.9263e+00, -1.2889e+00, -1.9118e+00, -1.7273e+00,\n",
              "          -1.9391e+00, -1.3064e+00, -1.7458e+00, -3.3091e-02]]]), hidden_states=None, attentions=None)"
            ]
          },
          "metadata": {},
          "execution_count": 39
        }
      ]
    },
    {
      "cell_type": "code",
      "source": [
        "predictions = torch.argmax(outputs.logits, dim=2)\n",
        "predictions"
      ],
      "metadata": {
        "colab": {
          "base_uri": "https://localhost:8080/"
        },
        "id": "1jY3x_5S2Uzf",
        "outputId": "ab2b2ea4-6da9-4618-e829-8600522c8291"
      },
      "execution_count": 40,
      "outputs": [
        {
          "output_type": "execute_result",
          "data": {
            "text/plain": [
              "tensor([[0, 0, 0, 0, 0, 0, 4, 4, 0, 0, 0, 0, 2, 2, 0, 0, 0, 0, 0, 0, 0, 0, 0, 0,\n",
              "         0, 0, 0, 0, 2, 0, 0, 0, 0, 0, 0, 0, 0, 2, 2, 0, 0, 0, 0, 0, 0, 0, 0, 0,\n",
              "         0, 0, 0, 0, 0, 0, 0, 0, 0, 0, 0, 0, 0, 0, 0, 0, 0, 0, 0, 0]])"
            ]
          },
          "metadata": {},
          "execution_count": 40
        }
      ]
    },
    {
      "cell_type": "code",
      "source": [
        "# Step 6: Map predictions to labels\n",
        "labels = model.config.id2label\n",
        "predicted_labels = [labels[p.item()] for p in predictions[0]]\n",
        "\n",
        "print(labels)\n",
        "print(predicted_labels)"
      ],
      "metadata": {
        "colab": {
          "base_uri": "https://localhost:8080/"
        },
        "id": "Bnnu6RsV3Q-4",
        "outputId": "92a8da51-7d2f-4f0c-cbb3-bd5381f8ee45"
      },
      "execution_count": 41,
      "outputs": [
        {
          "output_type": "stream",
          "name": "stdout",
          "text": [
            "{0: 'O', 1: 'B-MISC', 2: 'I-MISC', 3: 'B-PER', 4: 'I-PER', 5: 'B-ORG', 6: 'I-ORG', 7: 'B-LOC', 8: 'I-LOC'}\n",
            "['O', 'O', 'O', 'O', 'O', 'O', 'I-PER', 'I-PER', 'O', 'O', 'O', 'O', 'I-MISC', 'I-MISC', 'O', 'O', 'O', 'O', 'O', 'O', 'O', 'O', 'O', 'O', 'O', 'O', 'O', 'O', 'I-MISC', 'O', 'O', 'O', 'O', 'O', 'O', 'O', 'O', 'I-MISC', 'I-MISC', 'O', 'O', 'O', 'O', 'O', 'O', 'O', 'O', 'O', 'O', 'O', 'O', 'O', 'O', 'O', 'O', 'O', 'O', 'O', 'O', 'O', 'O', 'O', 'O', 'O', 'O', 'O', 'O', 'O']\n"
          ]
        }
      ]
    },
    {
      "cell_type": "markdown",
      "source": [
        "O: Outside, not part of any entity.\n",
        "\n",
        "B-MISC: Beginning of a miscellaneous entity (e.g., diseases, titles).\n",
        "\n",
        "I-MISC: Inside a miscellaneous entity.\n",
        "\n",
        "B-PER: Beginning of a person's name.\n",
        "\n",
        "I-PER: Inside a person's name.\n",
        "\n",
        "B-ORG: Beginning of an organization's name.\n",
        "\n",
        "I-ORG: Inside an organization's name.\n",
        "\n",
        "B-LOC: Beginning of a location's name.\n",
        "\n",
        "I-LOC: Inside a location's name."
      ],
      "metadata": {
        "id": "fuJDUuu_pQzy"
      }
    }
  ]
}